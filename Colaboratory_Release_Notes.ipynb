{
  "cells": [
    {
      "cell_type": "markdown",
      "metadata": {
        "id": "view-in-github",
        "colab_type": "text"
      },
      "source": [
        "<a href=\"https://colab.research.google.com/github/RalphLiang/BERT4Rec/blob/develop/Colaboratory_Release_Notes.ipynb\" target=\"_parent\"><img src=\"https://colab.research.google.com/assets/colab-badge.svg\" alt=\"Open In Colab\"/></a>"
      ]
    },
    {
      "cell_type": "markdown",
      "metadata": {
        "id": "5PK_TAwHO9lZ"
      },
      "source": [
        "Please follow our [blog](https://medium.com/google-colab) to see more information about new features, tips and tricks, and featured notebooks such as [a Digit Classifier Using Keras and TensorFlow.js](https://medium.com/google-colab/featured-notebook-1-digit-classifier-using-keras-and-tensorflow-e088e05c6ad2)."
      ]
    },
    {
      "cell_type": "markdown",
      "metadata": {
        "id": "cJxFZHsR7HAZ"
      },
      "source": [
        "## 2022/11/11\n",
        "\n",
        "*   Added more dark editor themes for Monaco (when in dark mode, \"Editor colorization\" appears as an option in the Editor tab of the Tools → Settings dialog) \n",
        "*   Fixed bug where collapsed forms were deleted on mobile \n",
        "[GitHub issue](https://github.com/googlecolab/colabtools/issues/3153)\n",
        "*   Updated rpy2 from 3.4.0 to 3.5.5 ([GitHub issue](https://github.com/googlecolab/colabtools/issues/3180)), notebook from 5.5.0 to 5.7.16, tornado from 5.1.1 to 6.0.4, tensorflow_probability from 0.16.0 to 0.17.0, pandas-gbq from 0.13.3 to 0.17.9, protobuf from 3.17.3 to 3.19.6, google-api-core[grpc] from 1.31.5 to 2.8.2, google-cloud-bigquery from 1.21.0 to 3.3.5, \n",
        "google-cloud-core from 1.0.1 to 2.3.2, google-cloud-datastore from 1.8.0 to 2.9.0, google-cloud-firestore from 1.7.0 to 2.7.2, google-cloud-language from 1.2.0 to 2.6.1, google-cloud-storage from 1.18.0 to 2.5.0, and google-cloud-translate from 1.5.0 to 3.8.4"
      ]
    },
    {
      "cell_type": "code",
      "source": [
        "from google.colab import drive\n",
        "drive.mount('/content/drive')"
      ],
      "metadata": {
        "id": "84g0HyFUm1iO"
      },
      "execution_count": null,
      "outputs": []
    },
    {
      "cell_type": "markdown",
      "metadata": {
        "id": "mNnf5izyVyF0"
      },
      "source": [
        "## 2022/10/21\n",
        "\n",
        "*   Launched a single-click way to get from BigQuery to Colab to further explore query results ([announcement](https://cloud.google.com/bigquery/docs/explore-data-colab))\n",
        "*   Launched [Pro, Pro+, and Pay As You Go](https://colab.research.google.com/signup) to 19 additional countries: Austria, Belgium, Bulgaria, Croatia, Cyprus, Czechia, Denmark, Estonia, Finland, Greece, Hungary, Latvia, Lithuania, Norway, Portugal, Romania, Slovakia, Slovenia, and Sweden ([tweet](https://twitter.com/GoogleColab/status/1579956393834344449))\n",
        "*   Updated jax from 0.3.17 to 0.3.23, jaxlib from 0.3.15 to 0.3.22, TensorFlow from 2.8.2 to 2.9.2, CUDA from 11.1 to 11.2, and cuDNN from 8.0 to 8.1 ([backend-info](https://github.com/googlecolab/backend-info))\n",
        "*   Added a `readonly` option to [`drive.mount`](https://github.com/googlecolab/colabtools/blob/main/google/colab/drive.py#L99)\n",
        "*   Fixed bug where Xarray was not working ([GitHub issue](https://github.com/googlecolab/colabtools/issues/3134))\n",
        "*   Modified Markdown parsing to ignore block quote symbol within MathJax ([GitHub issue](https://github.com/googlecolab/colabtools/issues/3118))\n"
      ]
    },
    {
      "cell_type": "markdown",
      "metadata": {
        "id": "Nf4LWuR__yxA"
      },
      "source": [
        "## 2022/9/30\n",
        "\n",
        "*   Launched [Pay As You Go](https://colab.research.google.com/signup), allowing premium GPU access without requiring a subscription\n",
        "*   Added vim and tcllib to our runtime image\n",
        "*   Fixed bug where open files were closed on kernel disconnect ([GitHub issue](https://github.com/googlecolab/colabtools/issues/1716))\n",
        "*   Fixed bug where the play button/execution indicator was not clickable when scrolled into the cell output ([GitHub issue](https://github.com/googlecolab/colabtools/issues/3068))\n",
        "*   Updated the styling for form titles so that they avoid obscuring the code editor\n",
        "*   Created a GitHub repo, [backend-info](https://github.com/googlecolab/backend-info), with the latest apt-list.txt and pip-freeze.txt files for the Colab runtime ([GitHub issue](https://github.com/googlecolab/colabtools/issues/1445))\n",
        "*   Added [`files.upload_file(filename)`](https://github.com/googlecolab/colabtools/blob/main/google/colab/files.py#L33) to upload a file from the browser to the runtime with a specified filename\n"
      ]
    },
    {
      "cell_type": "markdown",
      "metadata": {
        "id": "tIOYL5w7ONNT"
      },
      "source": [
        "## 2022/9/16\n",
        "\n",
        "*   Upgraded pymc from 3.11.0 to 4.1.4, jax from 0.3.14 to 0.3.17, jaxlib from 0.3.14 to 0.3.15, fsspec from 2022.8.1 to 2022.8.2\n",
        "*   Modified our save flow to avoid persisting Drive filenames as titles in notebook JSON\n",
        "*   Updated our [Terms of Service](https://colab.research.google.com/pro/terms)\n",
        "*   Modified the `Jump to Cell` command to locate the cursor at the end of the command palette input (`Jump to cell` in Tools → Command palette in a notebook with section headings)\n",
        "*   Updated the styling of the Drive notebook comment UI\n",
        "*   Added support for terminating your runtime from code:\n",
        "  ```python\n",
        "  from google.colab import runtime\n",
        "  runtime.unassign()\n",
        "  ```\n",
        "*    Added regex filter support to the Recent notebooks dialog\n",
        "*    Inline google.colab.files.upload JS to fix `files.upload()` not working ([GitHub issue](https://github.com/googlecolab/colabtools/issues/51))\n"
      ]
    },
    {
      "cell_type": "markdown",
      "metadata": {
        "id": "UroL8Rmb38bd"
      },
      "source": [
        "## 2022/8/26\n",
        "\n",
        "*   Upgraded PyYAML from 3.13 to 6.0 ([GitHub issue](https://github.com/googlecolab/colabtools/issues/2942)), drivefs from 61.0.3 to 62.0.1\n",
        "*   Upgraded TensorFlow from 2.8.2 to 2.9.1 and ipywidgets from 7.7.1 to 8.0.1 but rolled both back due to a number of user reports ([GitHub issue](https://github.com/googlecolab/colabtools/issues/3008), [GitHub issue](https://github.com/googlecolab/colabtools/issues/3020#issuecomment-1223330253))\n",
        "*   Stop persisting inferred titles in notebook JSON ([GitHub issue](https://github.com/googlecolab/colabtools/issues/764))\n",
        "*   Fix bug in background execution which affected some Pro+ users ([GitHub issue](https://github.com/googlecolab/colabtools/issues/2991))\n",
        "*   Fix bug where `Download as .py` incorrectly handled text cells ending in a double quote\n",
        "*   Fix bug for Pro and Pro+ users where we weren't honoring the preference (Tools → Settings) to use a temporary scratch notebook as the default landing page\n",
        "*   Provide undo/redo for scratch cells\n",
        "*   When writing ipynb files, serialize empty multiline strings as `[]` for better consistency with JupyterLab\n"
      ]
    },
    {
      "cell_type": "markdown",
      "metadata": {
        "id": "p8Hf89oCXY0_"
      },
      "source": [
        "## 2022/8/11\n",
        "\n",
        "*   Upgraded ipython from 5.5.0 to 7.9.0, fbprophet 0.7 to prophet 1.1, tensorflow-datasets from 4.0.1 to 4.6.0, drivefs from 60.0.2 to 61.0.3, pytorch from 1.12.0 to 1.12.1, numba from 0.51 to 0.56, and lxml from 4.2.0 to 4.9.1\n",
        "*   Loosened our `requests` version requirement ([GitHub issue](https://github.com/deepset-ai/haystack/pull/2921#issuecomment-1199714337))\n",
        "*   Removed support for TensorFlow 1\n",
        "*   Added Help → Report Drive abuse for Drive notebooks\n",
        "*   Fixed indentation for Python lines ending in `[`\n",
        "*   Modified styling of tables in Markdown to left-align them rather than centering them\n",
        "*   Fixed special character replacement when copying interactive tables as Markdown\n",
        "*   Fixed ansi 8-bit color parsing ([GitHub issue](https://github.com/googlecolab/colabtools/issues/2963))\n",
        "*  Configured logging to preempt transitive imports and other loading from implicitly configuring the root logger\n",
        "*  Modified forms to use a value of `None` instead of causing a parse error when clearing raw and numeric-typed form fields"
      ]
    },
    {
      "cell_type": "markdown",
      "metadata": {
        "id": "c3WxlZQWoRTF"
      },
      "source": [
        "## 2022/7/22\n",
        "\n",
        "*   Update scipy from 1.4.1 to 1.7.3, drivefs from 59.0.3 to 60.0.2, pytorch from 1.11 to 1.12, jax & jaxlib from 0.3.8 to 0.3.14, opencv-python from 4.1.2.30 to 4.6.0.66, spaCy from 3.3.1 to 3.4.0, and dlib from 19.18.0 to 19.24.0\n",
        "*   Fix `Open in tab` doc link which was rendering incorrectly ([GitHub issue](https://github.com/googlecolab/colabtools/issues/2690))\n",
        "*   Add a preference for the default tab orientation to the Site section of the settings menu under Tools → Settings\n",
        "*   Show a warning for `USE_AUTH_EPHEM` usage when running authenticate_user on a TPU runtime ([code](https://github.com/googlecolab/colabtools/blob/main/google/colab/auth.py#L243))"
      ]
    },
    {
      "cell_type": "markdown",
      "metadata": {
        "id": "J5BP2AumSQV-"
      },
      "source": [
        "## 2022/7/1\n",
        "\n",
        "*   Add a preference for code font to the settings menu under Tools → Settings\n",
        "*   Update drivefs from 58.0.3 to 59.0.3 and spacy from 2.2.4 to 3.3.1\n",
        "*   Allow [display_data](https://ipython.org/ipython-doc/3/notebook/nbformat.html#display-data) and [execute_result](https://ipython.org/ipython-doc/3/notebook/nbformat.html#execute-result) text outputs to wrap, matching behavior of JupyterLab (does not affect stream outputs/print statements).\n",
        "*   Improve LSP handling of some magics, esp. %%writefile ([GitHub issue](https://github.com/googlecolab/colabtools/issues/2859)).\n",
        "*   Add a [FAQ entry](https://research.google.com/colaboratory/faq.html#drive-mount-code-cell) about the mount Drive button behavior and include link buttons for each FAQ entry.\n",
        "*   Fix bug where the notebook was sometimes hidden behind other tabs on load when in single pane view.\n",
        "*   Fix issue with inconsistent scrolling when an editor is in multi-select mode.\n",
        "*   Fix bug where clicking on a link in a form would navigate away from the notebook\n",
        "*   Show a confirmation dialog before performing Replace all from the Find and replace pane."
      ]
    },
    {
      "cell_type": "markdown",
      "metadata": {
        "id": "Js3CVRzTawq0"
      },
      "source": [
        "## 2022/6/10\n",
        "\n",
        "\n",
        "*   Update drivefs from 57.0.5 to 58.0.3 and tensorflow from 2.8.0 to 2.8.2\n",
        "*   Support more than 100 repos in the GitHub repo selector shown in the open dialog and the clone to GitHub dialog\n",
        "*   Show full notebook names on hover in the open dialog\n",
        "*   Improve the color contrast for links, buttons, and the `ipywidgets.Accordion` widget in dark mode"
      ]
    },
    {
      "cell_type": "markdown",
      "metadata": {
        "id": "dIg0QWF0Ho8u"
      },
      "source": [
        "## 2022/5/20\n",
        "\n",
        "\n",
        "*   Support URL params for linking to some common pref settings: [force_theme=dark](https://colab.research.google.com/?force_theme=dark), [force_corgi_mode=1](https://colab.research.google.com/?force_corgi_mode=1), [force_font_size=14](https://colab.research.google.com/?force_font_size=14). Params forced by URL are not persisted unless saved using Tools → Settings.\n",
        "*   Add a class `markdown-google-sans` to allow <span class=\"markdown-google-sans\">Markdown to render in Google Sans</span>\n",
        "*   Update monaco-vim from 0.1.19 to 0.3.4\n",
        "*   Update drivefs from 55.0.3 to 57.0.5, jax from 0.3.4 to 0.3.8, and jaxlib from 0.3.2 to 0.3.7"
      ]
    },
    {
      "cell_type": "markdown",
      "metadata": {
        "id": "LatTBAMgJjwB"
      },
      "source": [
        "## 2022/4/29\n",
        "\n",
        "\n",
        "*   Added 🦀 mode (under Miscellaneous in Tools → Settings)\n",
        "*   Added \"Disconnect and delete runtime\" option to the menu next to the Connect button\n",
        "*   Improved rendering of filter options in an interactive table\n",
        "*   Added git-lfs to the base image\n",
        "*   Updated torch from 1.10.0 to 1.11.0, jupyter-core from 4.9.2 to 4.10.0, and cmake from 3.12.0 to 3.22.3\n",
        "*   Added more details to our [FAQ](https://research.google.com/colaboratory/faq.html) about unsupported uses (using proxies, downloading torrents, etc.)\n",
        "*   Fixed [issue](https://github.com/googlecolab/colabtools/issues/2779) with apt-get dependencies \n"
      ]
    },
    {
      "cell_type": "markdown",
      "metadata": {
        "id": "Eya7SMhoRjk1"
      },
      "source": [
        "## 2022/4/15\n",
        "\n",
        "*   Add an option in the file browser to show hidden files.\n",
        "*   Upgrade gdown from 4.2.0 to 4.4.0, google-api-core[grpc] from 1.26.0 to 1.31.5, and pytz from 2018.4 to 2022.1"
      ]
    },
    {
      "cell_type": "markdown",
      "metadata": {
        "id": "Q3vLHtJAmCJ3"
      },
      "source": [
        "## 2022/3/25\n",
        "\n",
        "\n",
        "*   Launched [Pro/Pro+](https://colab.research.google.com/signup?utm_source=relnotes&utm_medium=link&utm_campaign=additional_countries) to 12 additional countries: Australia, Bangladesh, Colombia, Hong Kong, Indonesia, Mexico, New Zealand, Pakistan, Philippines, Singapore, Taiwan, and Vietnam\n",
        "*   Added [`google.colab.auth.authenticate_service_account()`](https://github.com/googlecolab/colabtools/blob/main/google/colab/auth.py#L253) to support using [Service Account keys](https://cloud.google.com/iam/docs/creating-managing-service-account-keys#iam-service-account-keys-create-console)\n",
        "*   Update jax from 0.3.1 to 0.3.4 & jaxlib from 0.3.0 to 0.3.2\n",
        "*   Fixed an issue with Twitter previews of notebooks shared as Github Gists\n"
      ]
    },
    {
      "cell_type": "markdown",
      "metadata": {
        "id": "MU5YsVvzfsqd"
      },
      "source": [
        "## 2022/3/10\n",
        "\n",
        "\n",
        "*   Launched [Pro/Pro+](https://colab.research.google.com/signup?utm_source=relnotes&utm_medium=link&utm_campaign=additional_countries) to 10 new countries: Ireland, Israel, Italy, Morocco, the Netherlands, Poland, Spain, Switzerland, Turkey, and the United Arab Emirates\n",
        "*   Launched support for [scheduling notebooks for Pro+ users](https://github.com/googlecolab/colabtools/wiki/Scheduled-notebooks)\n",
        "*   Fixed bug in interactive datatables where filtering by number did not work\n",
        "*   Finished removing the python2 kernelspec\n",
        "\n"
      ]
    },
    {
      "cell_type": "markdown",
      "metadata": {
        "id": "Of4H5emXhAxl"
      },
      "source": [
        "## 2022/2/25\n",
        "\n",
        "*   Made various accessiblity improvements to the header\n",
        "*   Fix bug with [forms run:auto](https://colab.sandbox.google.com/notebooks/forms.ipynb#scrollTo=h9aZYKhly2h_) where a form field change would trigger multiple runs\n",
        "*   Minor updates to the [bigquery example notebook](https://colab.research.google.com/notebooks/bigquery.ipynb) and snippet\n",
        "*   Include background execution setting in the sessions dialog for Pro+ users\n",
        "*   Update tensorflow-probability from 0.15 to 0.16\n",
        "*   Update jax from 0.2.25 to 0.3.1 & jaxlib from 0.1.71 to 0.3.0\n"
      ]
    },
    {
      "cell_type": "markdown",
      "metadata": {
        "id": "zAxEtWbq0pZW"
      },
      "source": [
        "## 2022/2/11\n",
        "\n",
        "*   Improve keyboard navigation for the open dialog\n",
        "*   Fix issue where nvidia-smi stopped reporting resource utilization for some users who were modifying the version of nvidia used\n",
        "*   Update tensorflow from 2.7 to 2.8, keras from 2.7 to 2.8, numpy from 1.19.5 to 1.21.5, tables from 3.4.4 to 3.7.0\n"
      ]
    },
    {
      "cell_type": "markdown",
      "metadata": {
        "id": "8wuBaBN7i8z8"
      },
      "source": [
        "## 2022/2/4\n",
        "\n",
        "*   Improve UX for opening content alongside your notebook, such as files opened from the file browser. This includes a multi-pane view and drag-drop support\n",
        "*   Better Twitter previews when sharing example Colab notebooks and notebooks opened from GitHub Gists\n",
        "*   Update pandas from 1.1.5 to 1.3.5\n",
        "*   Update openpyxl from 2.5.9 to 3.0.0 and pyarrow from 3.0.0 to 6.0.0\n",
        "*   Link to the release notes from the Help menu\n",
        "\n"
      ]
    },
    {
      "cell_type": "markdown",
      "metadata": {
        "id": "xJyF5c1-jjZh"
      },
      "source": [
        "## 2022/1/28\n",
        "\n",
        "*   Add a copy button to [data tables](https://colab.research.google.com/notebooks/data_table.ipynb)\n",
        "*   Python LSP support for better completions and code diagnostics. This can be configured in the Editor Settings (Tools → Settings)\n",
        "*   Update [gspread examples](https://colab.research.google.com/notebooks/io.ipynb#scrollTo=sOm9PFrT8mGG) in our documentation\n",
        "*   Update gdown from 3.6 to 4.2\n"
      ]
    },
    {
      "cell_type": "markdown",
      "metadata": {
        "id": "Ev3L2QDMim6c"
      },
      "source": [
        "## 2022/1/21\n",
        "\n",
        "*   New documentation for the [`google.colab` package](https://colab.research.google.com/notebooks/google.colab.ipynb)\n",
        "*   Show GPU RAM in the resource usage tab\n",
        "*   Improved security for mounting Google Drive which disallows mounting Drive from accounts other than the one currently executing the notebook"
      ]
    },
    {
      "cell_type": "markdown",
      "metadata": {
        "id": "k1Mz0AckrHX6"
      },
      "source": [
        "## 2022/1/14\n",
        "\n",
        "*   Add a preference (Tools → Settings) to use a temporary scratch notebook as the default landing page\n",
        "*   Fix bug where `/` and `:` weren't working in VIM mode\n",
        "*   Update gspread from 3.0 to 3.4\n",
        "*   Update the [Colab Marketplace VM image](https://research.google.com/colaboratory/marketplace.html)\n",
        "\n"
      ]
    }
  ],
  "metadata": {
    "colab": {
      "name": "Colaboratory Release Notes",
      "toc_visible": true,
      "provenance": [],
      "include_colab_link": true
    },
    "kernelspec": {
      "display_name": "Python 3",
      "name": "python3"
    }
  },
  "nbformat": 4,
  "nbformat_minor": 0
}