{
 "cells": [
  {
   "cell_type": "code",
   "execution_count": 20,
   "id": "e61abdfe",
   "metadata": {},
   "outputs": [],
   "source": [
    "import sys\n",
    "import tensorflow as tf\n",
    "import torch\n",
    "import tensorflow.keras\n",
    "import pandas as pd\n",
    "import sklearn as sk\n",
    "import tensorflow as tf"
   ]
  },
  {
   "cell_type": "code",
   "execution_count": 21,
   "id": "e1e377a2",
   "metadata": {},
   "outputs": [
    {
     "name": "stdout",
     "output_type": "stream",
     "text": [
      "torch version 1.9.0\n",
      "tensorflow version 2.10.0\n",
      "tf gpu [PhysicalDevice(name='/physical_device:GPU:0', device_type='GPU')]\n"
     ]
    },
    {
     "data": {
      "text/plain": [
       "tensor([2.])"
      ]
     },
     "execution_count": 21,
     "metadata": {},
     "output_type": "execute_result"
    }
   ],
   "source": [
    "print(\"torch version\",torch.__version__)\n",
    "print(\"tensorflow version\", tf.__version__)\n",
    "print(\"tf gpu\", tf.config.list_physical_devices('GPU'))\n",
    "\n",
    "torch.ones(1)+ torch.ones(1)"
   ]
  },
  {
   "cell_type": "code",
   "execution_count": 22,
   "id": "21568029",
   "metadata": {},
   "outputs": [
    {
     "name": "stdout",
     "output_type": "stream",
     "text": [
      "Num GPUs Available:  1\n",
      "Tensor Flow Version: 2.10.0\n",
      "Keras Version: 2.10.0\n",
      "\n",
      "Python 3.9.12 (main, Apr  5 2022, 01:52:34) \n",
      "[Clang 12.0.0 ]\n",
      "Pandas 1.4.4\n",
      "Scikit-Learn 1.1.3\n",
      "GPU is available\n"
     ]
    }
   ],
   "source": [
    "print(\"Num GPUs Available: \", len(tf.config.experimental.list_physical_devices('GPU')))\n",
    "\n",
    "print(f\"Tensor Flow Version: {tf.__version__}\")\n",
    "print(f\"Keras Version: {tensorflow.keras.__version__}\")\n",
    "print()\n",
    "print(f\"Python {sys.version}\")\n",
    "print(f\"Pandas {pd.__version__}\")\n",
    "print(f\"Scikit-Learn {sk.__version__}\")\n",
    "gpu = len(tf.config.list_physical_devices('GPU'))>0\n",
    "print(\"GPU is\", \"available\" if gpu else \"NOT AVAILABLE\")"
   ]
  },
  {
   "cell_type": "code",
   "execution_count": 7,
   "id": "a0e47533",
   "metadata": {},
   "outputs": [],
   "source": [
    "import tensorflow_datasets as tfds\n",
    "import tensorflow as tf\n",
    "\n",
    "from tensorflow.python.framework.ops import disable_eager_execution"
   ]
  },
  {
   "cell_type": "code",
   "execution_count": 8,
   "id": "dd6708f1",
   "metadata": {},
   "outputs": [
    {
     "name": "stdout",
     "output_type": "stream",
     "text": [
      "Downloading and preparing dataset 11.06 MiB (download: 11.06 MiB, generated: 21.00 MiB, total: 32.06 MiB) to /Users/andy/tensorflow_datasets/mnist/3.0.1...\n"
     ]
    },
    {
     "data": {
      "application/json": {
       "ascii": false,
       "bar_format": null,
       "colour": null,
       "elapsed": 0.02392125129699707,
       "initial": 0,
       "n": 0,
       "ncols": null,
       "nrows": null,
       "postfix": null,
       "prefix": "Dl Completed...",
       "rate": null,
       "total": 4,
       "unit": " file",
       "unit_divisor": 1000,
       "unit_scale": false
      },
      "application/vnd.jupyter.widget-view+json": {
       "model_id": "a876fce9ae3d477a87c99722f86ed4ea",
       "version_major": 2,
       "version_minor": 0
      },
      "text/plain": [
       "Dl Completed...:   0%|          | 0/4 [00:00<?, ? file/s]"
      ]
     },
     "metadata": {},
     "output_type": "display_data"
    },
    {
     "name": "stdout",
     "output_type": "stream",
     "text": [
      "Dataset mnist downloaded and prepared to /Users/andy/tensorflow_datasets/mnist/3.0.1. Subsequent calls will reuse this data.\n"
     ]
    }
   ],
   "source": [
    "disable_eager_execution()\n",
    "\n",
    "(ds_train, ds_test), ds_info = tfds.load(\n",
    "    'mnist',\n",
    "    split=['train', 'test'],\n",
    "    shuffle_files=True,\n",
    "    as_supervised=True,\n",
    "    with_info=True,\n",
    ")"
   ]
  },
  {
   "cell_type": "code",
   "execution_count": 9,
   "id": "c7054fdb",
   "metadata": {},
   "outputs": [],
   "source": [
    "def normalize_img(image, label):\n",
    "  \"\"\"Normalizes images: `uint8` -> `float32`.\"\"\"\n",
    "  return tf.cast(image, tf.float32) / 255., label"
   ]
  },
  {
   "cell_type": "code",
   "execution_count": 10,
   "id": "bb543e65",
   "metadata": {},
   "outputs": [],
   "source": [
    "batch_size = 128"
   ]
  },
  {
   "cell_type": "code",
   "execution_count": 11,
   "id": "4dad1461",
   "metadata": {},
   "outputs": [],
   "source": [
    "ds_train = ds_train.map(\n",
    "    normalize_img, num_parallel_calls=tf.data.experimental.AUTOTUNE)\n",
    "ds_train = ds_train.cache()\n",
    "ds_train = ds_train.shuffle(ds_info.splits['train'].num_examples)\n",
    "ds_train = ds_train.batch(batch_size)\n",
    "ds_train = ds_train.prefetch(tf.data.experimental.AUTOTUNE)"
   ]
  },
  {
   "cell_type": "code",
   "execution_count": 12,
   "id": "b270a202",
   "metadata": {},
   "outputs": [],
   "source": [
    "ds_test = ds_test.map(\n",
    "    normalize_img, num_parallel_calls=tf.data.experimental.AUTOTUNE)\n",
    "ds_test = ds_test.batch(batch_size)\n",
    "ds_test = ds_test.cache()\n",
    "ds_test = ds_test.prefetch(tf.data.experimental.AUTOTUNE)"
   ]
  },
  {
   "cell_type": "code",
   "execution_count": 13,
   "id": "2523c14a",
   "metadata": {},
   "outputs": [],
   "source": [
    "model = tf.keras.models.Sequential([\n",
    "  tf.keras.layers.Conv2D(32, kernel_size=(3, 3),\n",
    "                 activation='relu'),\n",
    "  tf.keras.layers.Conv2D(64, kernel_size=(3, 3),\n",
    "                 activation='relu'),\n",
    "  tf.keras.layers.MaxPooling2D(pool_size=(2, 2)),\n",
    "#   tf.keras.layers.Dropout(0.25),\n",
    "  tf.keras.layers.Flatten(),\n",
    "  tf.keras.layers.Dense(128, activation='relu'),\n",
    "#   tf.keras.layers.Dropout(0.5),\n",
    "  tf.keras.layers.Dense(10, activation='softmax')\n",
    "])"
   ]
  },
  {
   "cell_type": "code",
   "execution_count": 14,
   "id": "499a4a37",
   "metadata": {},
   "outputs": [],
   "source": [
    "model.compile(\n",
    "    loss='sparse_categorical_crossentropy',\n",
    "    optimizer=tf.keras.optimizers.Adam(0.001),\n",
    "    metrics=['accuracy'],\n",
    ")"
   ]
  },
  {
   "cell_type": "code",
   "execution_count": 17,
   "id": "20652b58",
   "metadata": {},
   "outputs": [
    {
     "name": "stdout",
     "output_type": "stream",
     "text": [
      "Train on 469 steps, validate on 79 steps\n",
      "Epoch 1/12\n",
      "469/469 [==============================] - 11s 21ms/step - batch: 234.0000 - size: 1.0000 - loss: 0.0036 - accuracy: 0.9988 - val_loss: 0.0501 - val_accuracy: 0.9900\n",
      "Epoch 2/12\n",
      "469/469 [==============================] - 10s 20ms/step - batch: 234.0000 - size: 1.0000 - loss: 0.0011 - accuracy: 0.9995 - val_loss: 0.0582 - val_accuracy: 0.9884\n",
      "Epoch 3/12\n",
      "469/469 [==============================] - 11s 20ms/step - batch: 234.0000 - size: 1.0000 - loss: 0.0019 - accuracy: 0.9993 - val_loss: 0.0535 - val_accuracy: 0.9916\n",
      "Epoch 4/12\n",
      "469/469 [==============================] - 10s 20ms/step - batch: 234.0000 - size: 1.0000 - loss: 9.2941e-04 - accuracy: 0.9996 - val_loss: 0.0496 - val_accuracy: 0.9916\n",
      "Epoch 5/12\n",
      "469/469 [==============================] - 11s 20ms/step - batch: 234.0000 - size: 1.0000 - loss: 8.3051e-04 - accuracy: 0.9997 - val_loss: 0.0534 - val_accuracy: 0.9907\n",
      "Epoch 6/12\n",
      "469/469 [==============================] - 10s 20ms/step - batch: 234.0000 - size: 1.0000 - loss: 0.0014 - accuracy: 0.9995 - val_loss: 0.0737 - val_accuracy: 0.9888\n",
      "Epoch 7/12\n",
      "469/469 [==============================] - 11s 20ms/step - batch: 234.0000 - size: 1.0000 - loss: 0.0034 - accuracy: 0.9990 - val_loss: 0.0546 - val_accuracy: 0.9911\n",
      "Epoch 8/12\n",
      "469/469 [==============================] - 11s 21ms/step - batch: 234.0000 - size: 1.0000 - loss: 4.2968e-04 - accuracy: 0.9999 - val_loss: 0.0549 - val_accuracy: 0.9914\n",
      "Epoch 9/12\n",
      "469/469 [==============================] - 11s 20ms/step - batch: 234.0000 - size: 1.0000 - loss: 0.0012 - accuracy: 0.9996 - val_loss: 0.0702 - val_accuracy: 0.9906\n",
      "Epoch 10/12\n",
      "469/469 [==============================] - 11s 20ms/step - batch: 234.0000 - size: 1.0000 - loss: 0.0021 - accuracy: 0.9993 - val_loss: 0.0692 - val_accuracy: 0.9891\n",
      "Epoch 11/12\n",
      "469/469 [==============================] - 11s 20ms/step - batch: 234.0000 - size: 1.0000 - loss: 0.0026 - accuracy: 0.9992 - val_loss: 0.0724 - val_accuracy: 0.9905\n",
      "Epoch 12/12\n",
      "469/469 [==============================] - 11s 20ms/step - batch: 234.0000 - size: 1.0000 - loss: 9.7058e-04 - accuracy: 0.9998 - val_loss: 0.0651 - val_accuracy: 0.9896\n"
     ]
    },
    {
     "data": {
      "text/plain": [
       "<keras.callbacks.History at 0x176a2bca0>"
      ]
     },
     "execution_count": 17,
     "metadata": {},
     "output_type": "execute_result"
    }
   ],
   "source": [
    "model.fit(\n",
    "    ds_train,\n",
    "    epochs=12,\n",
    "    validation_data=ds_test,\n",
    ")"
   ]
  }
 ],
 "metadata": {
  "kernelspec": {
   "display_name": "Python 3",
   "language": "python",
   "name": "python3"
  },
  "language_info": {
   "codemirror_mode": {
    "name": "ipython",
    "version": 3
   },
   "file_extension": ".py",
   "mimetype": "text/x-python",
   "name": "python",
   "nbconvert_exporter": "python",
   "pygments_lexer": "ipython3",
   "version": "3.9.12"
  }
 },
 "nbformat": 4,
 "nbformat_minor": 5
}
